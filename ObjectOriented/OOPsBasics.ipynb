{
  "nbformat": 4,
  "nbformat_minor": 0,
  "metadata": {
    "colab": {
      "name": "OOP_in_Python.ipynb",
      "provenance": [],
      "authorship_tag": "ABX9TyPsMVMiqVCDiTx8GHiV41YQ",
      "include_colab_link": true
    },
    "kernelspec": {
      "name": "python3",
      "display_name": "Python 3"
    }
  },
  "cells": [
    {
      "cell_type": "markdown",
      "metadata": {
        "id": "view-in-github",
        "colab_type": "text"
      },
      "source": [
        "<a href=\"https://colab.research.google.com/github/akshaybahadur21/Emancipation-of-Python/blob/main/OOPsBasics.ipynb\" target=\"_parent\"><img src=\"https://colab.research.google.com/assets/colab-badge.svg\" alt=\"Open In Colab\"/></a>"
      ]
    },
    {
      "cell_type": "code",
      "metadata": {
        "id": "03hOqdqjYtaU"
      },
      "source": [
        "class Dog:\n",
        "  def __init__(self, name, age):\n",
        "        self.name = name\n",
        "        self.age = age"
      ],
      "execution_count": null,
      "outputs": []
    },
    {
      "cell_type": "code",
      "metadata": {
        "id": "bdA44GCFaZU4",
        "colab": {
          "base_uri": "https://localhost:8080/",
          "height": 69
        },
        "outputId": "fd4e9754-b04e-414a-a93f-63adc58933b3"
      },
      "source": [
        "d1 = Dog(\"Chiku\", 2)\n",
        "print(d1)\n",
        "print(d1.name)\n",
        "print(d1.age)"
      ],
      "execution_count": null,
      "outputs": [
        {
          "output_type": "stream",
          "text": [
            "<__main__.Dog object at 0x7f66ac7f5780>\n",
            "Chiku\n",
            "2\n"
          ],
          "name": "stdout"
        }
      ]
    },
    {
      "cell_type": "code",
      "metadata": {
        "id": "UgwX5i58dYtF"
      },
      "source": [
        "class Employee:\n",
        "  pass"
      ],
      "execution_count": null,
      "outputs": []
    },
    {
      "cell_type": "code",
      "metadata": {
        "id": "PbK6X_imeH89",
        "colab": {
          "base_uri": "https://localhost:8080/",
          "height": 52
        },
        "outputId": "c03ef7bf-4574-4703-bfd4-8c110d473b12"
      },
      "source": [
        "emp1 = Employee()\n",
        "emp2 = Employee()\n",
        "print(emp1)\n",
        "print(emp2)"
      ],
      "execution_count": null,
      "outputs": [
        {
          "output_type": "stream",
          "text": [
            "<__main__.Employee object at 0x7f66ac7f5b70>\n",
            "<__main__.Employee object at 0x7f66ac7f5b38>\n"
          ],
          "name": "stdout"
        }
      ]
    },
    {
      "cell_type": "code",
      "metadata": {
        "id": "AmJFx8NOeN39"
      },
      "source": [
        "class Employee:\n",
        "  def __init__(self, first, last, pay): # By default, the first method in a constructor is the instance itself, similar to 'this' in java\n",
        "    self.first = first\n",
        "    self.last = last\n",
        "    self.pay = pay\n",
        "    self.email = first + \".\" + last + \"@gmail.com\"\n"
      ],
      "execution_count": null,
      "outputs": []
    },
    {
      "cell_type": "code",
      "metadata": {
        "id": "mQ5Ef9kyfN-N",
        "colab": {
          "base_uri": "https://localhost:8080/",
          "height": 52
        },
        "outputId": "e5674ada-fe2e-49db-fcf9-a97df1f537a3"
      },
      "source": [
        "emp1 = Employee(\"Akshay\", \"Bahadur\", 50000)\n",
        "emp2 = Employee(\"Raghav\", \"Patnecha\", 50000)\n",
        "print(emp1.email)\n",
        "print(emp2.email)"
      ],
      "execution_count": null,
      "outputs": [
        {
          "output_type": "stream",
          "text": [
            "Akshay.Bahadur@gmail.com\n",
            "Raghav.Patnecha@gmail.com\n"
          ],
          "name": "stdout"
        }
      ]
    },
    {
      "cell_type": "code",
      "metadata": {
        "id": "tWRnfsYQfcgQ"
      },
      "source": [
        "class Employee:\n",
        "  def __init__(self, first, last, pay): # By default, the first method in a constructor is the instance itself, similar to 'this' in java\n",
        "    self.first = first\n",
        "    self.last = last\n",
        "    self.pay = pay\n",
        "    self.email = first + \".\" + last + \"@gmail.com\"\n",
        "\n",
        "  def printFullName(self):\n",
        "    return \"{} {}\".format(self.first, self.last)"
      ],
      "execution_count": null,
      "outputs": []
    },
    {
      "cell_type": "code",
      "metadata": {
        "id": "E-4OgKFwgo1n",
        "colab": {
          "base_uri": "https://localhost:8080/",
          "height": 52
        },
        "outputId": "3d2d12a2-0f4c-4a9e-cc6f-97f83249aad2"
      },
      "source": [
        "emp1 = Employee(\"Akshay\", \"Bahadur\", 50000)\n",
        "emp2 = Employee(\"Raghav\", \"Patnecha\", 50000)\n",
        "print(emp1.email)\n",
        "print(emp2.email)"
      ],
      "execution_count": null,
      "outputs": [
        {
          "output_type": "stream",
          "text": [
            "Akshay.Bahadur@gmail.com\n",
            "Raghav.Patnecha@gmail.com\n"
          ],
          "name": "stdout"
        }
      ]
    },
    {
      "cell_type": "code",
      "metadata": {
        "id": "cWeI1WU-grax",
        "colab": {
          "base_uri": "https://localhost:8080/",
          "height": 34
        },
        "outputId": "179b8d53-c51e-4f24-9bb1-531bdc98d6e7"
      },
      "source": [
        "print(emp1.printFullName())"
      ],
      "execution_count": null,
      "outputs": [
        {
          "output_type": "stream",
          "text": [
            "Akshay Bahadur\n"
          ],
          "name": "stdout"
        }
      ]
    },
    {
      "cell_type": "code",
      "metadata": {
        "id": "0S-wQJIQgtra",
        "colab": {
          "base_uri": "https://localhost:8080/",
          "height": 52
        },
        "outputId": "09e06352-068f-4146-9f76-e97b725a9773"
      },
      "source": [
        "print(Employee.printFullName(emp1))\n",
        "print(Employee.printFullName(emp2))"
      ],
      "execution_count": null,
      "outputs": [
        {
          "output_type": "stream",
          "text": [
            "Akshay Bahadur\n",
            "Raghav Patnecha\n"
          ],
          "name": "stdout"
        }
      ]
    },
    {
      "cell_type": "code",
      "metadata": {
        "id": "ntGm2CfzhTQW"
      },
      "source": [
        "# class variables : Variables that are shared across all instances of the class (global)\n",
        "# instance variables : unique for an instance"
      ],
      "execution_count": null,
      "outputs": []
    },
    {
      "cell_type": "code",
      "metadata": {
        "id": "d3ZYWmdAhXCP",
        "colab": {
          "base_uri": "https://localhost:8080/",
          "height": 86
        },
        "outputId": "5dc37b72-9946-47e5-f8de-024a1896687d"
      },
      "source": [
        "class Employee:\n",
        "  raise_amount = 1.04 #4 percent\n",
        "  def __init__(self, first, last, pay): # By default, the first method in a constructor is the instance itself, similar to 'this' in java\n",
        "    self.first = first\n",
        "    self.last = last\n",
        "    self.pay = pay\n",
        "    self.email = first + \".\" + last + \"@gmail.com\"\n",
        "\n",
        "  def printFullName(self):\n",
        "    return \"{} {}\".format(self.first, self.last)\n",
        "\n",
        "  def give_raise(self):\n",
        "    return self.pay * self.raise_amount\n",
        "\n",
        "emp1 = Employee(\"Akshay\", \"Bahadur\", 50000)\n",
        "emp2 = Employee(\"Raghav\", \"Patnecha\", 50000)\n",
        "print(emp1.email)\n",
        "print(emp2.email)\n",
        "print(emp1.give_raise())\n",
        "print(emp1.raise_amount)\n"
      ],
      "execution_count": null,
      "outputs": [
        {
          "output_type": "stream",
          "text": [
            "Akshay.Bahadur@gmail.com\n",
            "Raghav.Patnecha@gmail.com\n",
            "52000.0\n",
            "1.04\n"
          ],
          "name": "stdout"
        }
      ]
    },
    {
      "cell_type": "code",
      "metadata": {
        "id": "qHpxssAHoT1T",
        "colab": {
          "base_uri": "https://localhost:8080/",
          "height": 34
        },
        "outputId": "4497a42e-b024-413a-edd1-7ab81b6cd66a"
      },
      "source": [
        "print(emp1.__dict__)"
      ],
      "execution_count": null,
      "outputs": [
        {
          "output_type": "stream",
          "text": [
            "{'first': 'Akshay', 'last': 'Bahadur', 'pay': 50000, 'email': 'Akshay.Bahadur@gmail.com'}\n"
          ],
          "name": "stdout"
        }
      ]
    },
    {
      "cell_type": "code",
      "metadata": {
        "id": "4_38UjYYouoO",
        "colab": {
          "base_uri": "https://localhost:8080/",
          "height": 54
        },
        "outputId": "4eb1ff7f-161d-41db-8608-1612302c09be"
      },
      "source": [
        "print(Employee.__dict__)"
      ],
      "execution_count": null,
      "outputs": [
        {
          "output_type": "stream",
          "text": [
            "{'__module__': '__main__', 'raise_amount': 1.04, '__init__': <function Employee.__init__ at 0x7f66ac7fe048>, 'printFullName': <function Employee.printFullName at 0x7f66ac810950>, 'give_raise': <function Employee.give_raise at 0x7f66ac8109d8>, '__dict__': <attribute '__dict__' of 'Employee' objects>, '__weakref__': <attribute '__weakref__' of 'Employee' objects>, '__doc__': None}\n"
          ],
          "name": "stdout"
        }
      ]
    },
    {
      "cell_type": "code",
      "metadata": {
        "id": "CPjl5C6do1Fi",
        "colab": {
          "base_uri": "https://localhost:8080/",
          "height": 69
        },
        "outputId": "854a0aa9-76ef-4e09-ca5a-81ff23be1c6f"
      },
      "source": [
        "Employee.raise_amount = 1.04\n",
        "print(Employee.raise_amount)\n",
        "print(emp1.raise_amount)\n",
        "print(emp1.raise_amount)"
      ],
      "execution_count": null,
      "outputs": [
        {
          "output_type": "stream",
          "text": [
            "1.04\n",
            "1.04\n",
            "1.04\n"
          ],
          "name": "stdout"
        }
      ]
    },
    {
      "cell_type": "code",
      "metadata": {
        "id": "UImDuMciqjYF",
        "colab": {
          "base_uri": "https://localhost:8080/",
          "height": 69
        },
        "outputId": "c8783e5b-b622-4af1-dd17-aa998d9c58d0"
      },
      "source": [
        "emp1.raise_amount = 1.05\n",
        "print(Employee.raise_amount)\n",
        "print(emp1.raise_amount)\n",
        "print(emp1.raise_amount)"
      ],
      "execution_count": null,
      "outputs": [
        {
          "output_type": "stream",
          "text": [
            "1.04\n",
            "1.05\n",
            "1.05\n"
          ],
          "name": "stdout"
        }
      ]
    },
    {
      "cell_type": "code",
      "metadata": {
        "id": "LhNvBhrMqlIf",
        "colab": {
          "base_uri": "https://localhost:8080/",
          "height": 34
        },
        "outputId": "2007b151-1e17-4f36-ee50-a3c354cca379"
      },
      "source": [
        "print(emp1.__dict__)"
      ],
      "execution_count": null,
      "outputs": [
        {
          "output_type": "stream",
          "text": [
            "{'first': 'Akshay', 'last': 'Bahadur', 'pay': 50000, 'email': 'Akshay.Bahadur@gmail.com', 'raise_amount': 1.05}\n"
          ],
          "name": "stdout"
        }
      ]
    },
    {
      "cell_type": "code",
      "metadata": {
        "id": "u9iSrtgQq12C",
        "colab": {
          "base_uri": "https://localhost:8080/",
          "height": 52
        },
        "outputId": "74995969-6a6c-48b6-a3c5-e8616003a95a"
      },
      "source": [
        "class Employee:\n",
        "  num_emp = 0\n",
        "  raise_amount = 1.04 #4 percent\n",
        "\n",
        "  def __init__(self, first, last, pay): # By default, the first method in a constructor is the instance itself, similar to 'this' in java\n",
        "    self.first = first\n",
        "    self.last = last\n",
        "    self.pay = pay\n",
        "    self.email = first + \".\" + last + \"@gmail.com\"\n",
        "    Employee.num_emp += 1\n",
        "\n",
        "  def printFullName(self):\n",
        "    return \"{} {}\".format(self.first, self.last)\n",
        "\n",
        "  def give_raise(self):\n",
        "    return self.pay * self.raise_amount\n",
        "\n",
        "print(Employee.num_emp)\n",
        "emp1 = Employee(\"Akshay\", \"Bahadur\", 50000)\n",
        "emp2 = Employee(\"Raghav\", \"Patnecha\", 50000)\n",
        "print(Employee.num_emp)"
      ],
      "execution_count": null,
      "outputs": [
        {
          "output_type": "stream",
          "text": [
            "0\n",
            "2\n"
          ],
          "name": "stdout"
        }
      ]
    },
    {
      "cell_type": "code",
      "metadata": {
        "id": "Yp68RsSprogf"
      },
      "source": [
        "# Class Methods and Static Methods\n",
        "# regular methods : regular methods in a class automatically take self(instance) as their first instance\n",
        "# Class mthods : class methods take class as their first instance"
      ],
      "execution_count": null,
      "outputs": []
    },
    {
      "cell_type": "code",
      "metadata": {
        "id": "s6e5kFaAHVVc",
        "colab": {
          "base_uri": "https://localhost:8080/",
          "height": 69
        },
        "outputId": "dd3e41cf-3f27-4be4-b088-954e750d292f"
      },
      "source": [
        "class Employee:\n",
        "  num_emp = 0\n",
        "  raise_amount = 1.04 #4 percent\n",
        "\n",
        "  def __init__(self, first, last, pay): # By default, the first method in a constructor is the instance itself, similar to 'this' in java\n",
        "    self.first = first\n",
        "    self.last = last\n",
        "    self.pay = pay\n",
        "    self.email = first + \".\" + last + \"@gmail.com\"\n",
        "    Employee.num_emp += 1\n",
        "\n",
        "  def printFullName(self):\n",
        "    return \"{} {}\".format(self.first, self.last)\n",
        "\n",
        "  def give_raise(self):\n",
        "    return self.pay * self.raise_amount\n",
        "  \n",
        "  @classmethod\n",
        "  def set_raise(cls, amount):\n",
        "    cls.raise_amount = amount\n",
        "\n",
        "\n",
        "emp1 = Employee(\"Akshay\", \"Bahadur\", 50000)\n",
        "emp2 = Employee(\"Raghav\", \"Patnecha\", 50000)\n",
        "\n",
        "Employee.set_raise(1.05)\n",
        "print(Employee.raise_amount)\n",
        "print(emp1.raise_amount)\n",
        "print(emp1.raise_amount)"
      ],
      "execution_count": null,
      "outputs": [
        {
          "output_type": "stream",
          "text": [
            "1.05\n",
            "1.05\n",
            "1.05\n"
          ],
          "name": "stdout"
        }
      ]
    },
    {
      "cell_type": "code",
      "metadata": {
        "id": "MjVI52iiMUfM",
        "colab": {
          "base_uri": "https://localhost:8080/",
          "height": 34
        },
        "outputId": "3a8f50f4-1924-47b1-8722-2aea1b44020b"
      },
      "source": [
        "class Employee:\n",
        "  num_emp = 0\n",
        "  raise_amount = 1.04 #4 percent\n",
        "\n",
        "  def __init__(self, first, last, pay): # By default, the first method in a constructor is the instance itself, similar to 'this' in java\n",
        "    self.first = first\n",
        "    self.last = last\n",
        "    self.pay = pay\n",
        "    self.email = first + \".\" + last + \"@gmail.com\"\n",
        "    Employee.num_emp += 1\n",
        "\n",
        "  def printFullName(self):\n",
        "    return \"{} {}\".format(self.first, self.last)\n",
        "\n",
        "  def give_raise(self):\n",
        "    return self.pay * self.raise_amount\n",
        "  \n",
        "  @classmethod\n",
        "  def set_raise(cls, amount):\n",
        "    cls.raise_amount = amount\n",
        "  \n",
        "  @classmethod # Alternative constructor\n",
        "  def from_string(cls, string):\n",
        "    first, last, pay = string.split(\"-\")\n",
        "    return cls(first, last, pay)\n",
        "\n",
        "\n",
        "emp1 = Employee(\"Akshay\", \"Bahadur\", 50000)\n",
        "emp2 = Employee(\"Raghav\", \"Patnecha\", 50000)\n",
        "string = \"Shikhar-Chitransh-60000\"\n",
        "emp2 = Employee.from_string(string)\n",
        "print(emp2.__dict__)"
      ],
      "execution_count": null,
      "outputs": [
        {
          "output_type": "stream",
          "text": [
            "{'first': 'Shikhar', 'last': 'Chitransh', 'pay': '60000', 'email': 'Shikhar.Chitransh@gmail.com'}\n"
          ],
          "name": "stdout"
        }
      ]
    },
    {
      "cell_type": "code",
      "metadata": {
        "id": "HQVoGbtWwy9P"
      },
      "source": [
        "#static methods : they don't pass instance or class\n",
        "# They are logically related to the working of class but are not dependant on the instance or the class"
      ],
      "execution_count": null,
      "outputs": []
    },
    {
      "cell_type": "code",
      "metadata": {
        "id": "P8lk7bC5v01G",
        "colab": {
          "base_uri": "https://localhost:8080/",
          "height": 34
        },
        "outputId": "8a189ced-bc37-4b85-d498-b3955b0fbda6"
      },
      "source": [
        "class Employee:\n",
        "  num_emp = 0\n",
        "  raise_amount = 1.04 #4 percent\n",
        "\n",
        "  def __init__(self, first, last, pay): # By default, the first method in a constructor is the instance itself, similar to 'this' in java\n",
        "    self.first = first\n",
        "    self.last = last\n",
        "    self.pay = pay\n",
        "    self.email = first + \".\" + last + \"@gmail.com\"\n",
        "    Employee.num_emp += 1\n",
        "\n",
        "  def printFullName(self):\n",
        "    return \"{} {}\".format(self.first, self.last)\n",
        "\n",
        "  def give_raise(self):\n",
        "    return self.pay * self.raise_amount\n",
        "  \n",
        "  @classmethod\n",
        "  def set_raise(cls, amount):\n",
        "    cls.raise_amount = amount\n",
        "  \n",
        "  @classmethod # Alternative constructor\n",
        "  def from_string(cls, string):\n",
        "    first, last, pay = string.split(\"-\")\n",
        "    return cls(first, last, pay)\n",
        "\n",
        "  @staticmethod\n",
        "  def is_workday(day):\n",
        "    if day.weekday() == 5 or day.weekday() == 6:\n",
        "      return False\n",
        "    return True\n",
        "\n",
        "emp1 = Employee(\"Akshay\", \"Bahadur\", 50000)\n",
        "emp2 = Employee(\"Raghav\", \"Patnecha\", 50000)\n",
        "\n",
        "import datetime\n",
        "my_date = datetime.date(2020, 9, 11)\n",
        "print(Employee.is_workday(my_date))"
      ],
      "execution_count": null,
      "outputs": [
        {
          "output_type": "stream",
          "text": [
            "True\n"
          ],
          "name": "stdout"
        }
      ]
    },
    {
      "cell_type": "code",
      "metadata": {
        "id": "IyA8W0CAy6aG"
      },
      "source": [
        ""
      ],
      "execution_count": null,
      "outputs": []
    }
  ]
}
